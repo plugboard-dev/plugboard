{
 "cells": [
  {
   "cell_type": "markdown",
   "metadata": {},
   "source": [
    "# Simple 3-node model\n",
    "\n",
    "This model demonstrates how to create different types of component and link them together. We use a built-in plugboard component to load timeseries data from a CSV file. A second node computes a rolling sum of these values. Finally another built-in component saves the output to a different CSV."
   ]
  },
  {
   "cell_type": "code",
   "execution_count": null,
   "metadata": {},
   "outputs": [],
   "source": [
    "import typing as _t\n",
    "\n",
    "from plugboard.connector import AsyncioChannel, Connector\n",
    "from plugboard.component import Component\n",
    "from plugboard.component import IOController as IO\n",
    "from plugboard.process import Process\n",
    "from plugboard.schemas import ConnectorSpec\n",
    "from plugboard.contrib.components import CSVReader, CSVWriter"
   ]
  },
  {
   "cell_type": "markdown",
   "metadata": {},
   "source": [
    "The `CSVReader` component is provided by plugboard. It takes the content of a CSV and emits the values row-by-row."
   ]
  },
  {
   "cell_type": "code",
   "execution_count": null,
   "metadata": {},
   "outputs": [],
   "source": [
    "input_data = CSVReader(\"input.csv\")"
   ]
  },
  {
   "cell_type": "markdown",
   "metadata": {},
   "source": [
    "Next, we implement a component to compute a running total using its internal state."
   ]
  },
  {
   "cell_type": "code",
   "execution_count": null,
   "metadata": {},
   "outputs": [],
   "source": [
    "class RunningTotal(Component):\n",
    "    io = IO(inputs=[\"value\"], outputs=[\"total_value\"])\n",
    "\n",
    "    def __init__(self, iters: int, *args: _t.Any, **kwargs: _t.Any) -> None:\n",
    "        super().__init__(*args, **kwargs)\n",
    "        self._running_total = 0\n",
    "\n",
    "    async def step(self) -> None:\n",
    "        self._running_total += self.value\n",
    "        self.total_value = self._running_total"
   ]
  },
  {
   "cell_type": "code",
   "execution_count": null,
   "metadata": {},
   "outputs": [],
   "source": [
    "total = RunningTotal()"
   ]
  },
  {
   "cell_type": "markdown",
   "metadata": {},
   "source": [
    "For the output we can use the built-in `CSVWriter` component."
   ]
  },
  {
   "cell_type": "code",
   "execution_count": null,
   "metadata": {},
   "outputs": [],
   "source": [
    "ouput_data = CSVWriter(\"output.csv\")"
   ]
  },
  {
   "cell_type": "markdown",
   "metadata": {},
   "source": [
    "Now connect the components together in a `Process`."
   ]
  },
  {
   "cell_type": "code",
   "execution_count": null,
   "metadata": {},
   "outputs": [],
   "source": [
    "process = Process(\n",
    "    components=[input_data, total, ouput_data],\n",
    "    connectors=[\n",
    "        # Connect input_data to total\n",
    "        Connector(spec=ConnectorSpec(source=\"input_data.reading\", target=\"total.value\"), channel=AsyncioChannel()),\n",
    "        # Connect total to output_data\n",
    "        Connector(spec=ConnectorSpec(source=\"total.total_value\", target=\"output_data.output_value\"), channel=AsyncioChannel()),\n",
    "    ],\n",
    ")"
   ]
  },
  {
   "cell_type": "markdown",
   "metadata": {},
   "source": [
    "Now we can initialise and run the simulation."
   ]
  },
  {
   "cell_type": "code",
   "execution_count": null,
   "metadata": {},
   "outputs": [],
   "source": [
    "await process.init()\n",
    "await process.run()"
   ]
  },
  {
   "cell_type": "markdown",
   "metadata": {},
   "source": [
    "Finally check we have the output data saved in `output.csv`."
   ]
  },
  {
   "cell_type": "code",
   "execution_count": null,
   "metadata": {},
   "outputs": [],
   "source": [
    "!cat output.csv"
   ]
  }
 ],
 "metadata": {
  "kernelspec": {
   "display_name": "plugboard",
   "language": "python",
   "name": "python3"
  },
  "language_info": {
   "codemirror_mode": {
    "name": "ipython",
    "version": 3
   },
   "file_extension": ".py",
   "mimetype": "text/x-python",
   "name": "python",
   "nbconvert_exporter": "python",
   "pygments_lexer": "ipython3",
   "version": "3.12.5"
  }
 },
 "nbformat": 4,
 "nbformat_minor": 2
}
