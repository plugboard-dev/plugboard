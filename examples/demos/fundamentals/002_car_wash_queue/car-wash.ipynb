{
 "cells": [
  {
   "cell_type": "markdown",
   "metadata": {},
   "source": [
    "# Car wash queueing model\n",
    "\n",
    "[![Open in GitHub Codespaces](https://github.com/codespaces/badge.svg)](https://codespaces.new/plugboard-dev/plugboard)\n",
    "\n",
    "This model uses event-driven components to model cars arriving and queueing at a carwash. We can use the model to understand how many cars are in the queue at a given moment.\n",
    "\n",
    "Cars arrive at the carwash and enter a queue to go into one of three washing machines. If any one of the machines is empty then the car at the front of the queue moves into it, otherwise they will wait in the queue. The washing process takes a random amount of time (configurable on each machine).\n",
    "\n",
    "<div class=\"admonition note\">\n",
    "    <p class=\"admonition-title\">Note</p>\n",
    "    <p>\n",
    "        Install <code>pandas</code> and <code>plotly</code> to run this demo.\n",
    "    </p>\n",
    "</div>"
   ]
  },
  {
   "cell_type": "code",
   "execution_count": null,
   "metadata": {},
   "outputs": [],
   "source": [
    "from datetime import datetime\n",
    "import random\n",
    "import typing as _t\n",
    "\n",
    "import pandas as pd\n",
    "from pydantic import BaseModel\n",
    "\n",
    "from plugboard.connector import AsyncioConnector\n",
    "from plugboard.component import Component, IOController\n",
    "from plugboard.connector import AsyncioConnector, ConnectorBuilder\n",
    "from plugboard.events import Event, EventConnectorBuilder, StopEvent\n",
    "from plugboard.schemas import ComponentArgsDict, ConnectorSpec\n",
    "from plugboard.process import LocalProcess\n",
    "from plugboard.library import FileWriter"
   ]
  },
  {
   "cell_type": "markdown",
   "metadata": {},
   "source": [
    "Start be defining the events that are required for:\n",
    "* A car arriving and entering the queue;\n",
    "* A car moving from the queue into a washing machine;\n",
    "* A car leaving the car-wash after washing is completed."
   ]
  },
  {
   "cell_type": "code",
   "execution_count": null,
   "metadata": {},
   "outputs": [],
   "source": [
    "class CarData(BaseModel):\n",
    "    \"\"\"Data for a car at the carwash.\"\"\"\n",
    "\n",
    "    car_id: int\n",
    "    machine_id: _t.Optional[int] = None\n",
    "    arrival_time: _t.Optional[datetime] = None\n",
    "    leave_time: _t.Optional[datetime] = None\n",
    "\n",
    "\n",
    "class CarArrived(Event):\n",
    "    \"\"\"Event for when a car arrives at the carwash.\"\"\"\n",
    "\n",
    "    type: _t.ClassVar[str] = \"car_arrived\"\n",
    "    data: CarData\n",
    "\n",
    "\n",
    "class CarEntersWash(Event):\n",
    "    \"\"\"Event for when a car enters the wash.\"\"\"\n",
    "\n",
    "    type: _t.ClassVar[str] = \"car_enters_wash\"\n",
    "    data: CarData\n",
    "\n",
    "\n",
    "class CarLeavesWash(Event):\n",
    "    \"\"\"Event for when a car leaves the wash.\"\"\"\n",
    "\n",
    "    type: _t.ClassVar[str] = \"car_leaves_wash\"\n",
    "    data: CarData"
   ]
  },
  {
   "cell_type": "markdown",
   "metadata": {},
   "source": [
    "The CSV file in`car-arrivals.csv` contains minute-by-minute data on the number of cars that arrive at the carwash. We need a component to read this data and publish an event for each car that arrives."
   ]
  },
  {
   "cell_type": "code",
   "execution_count": null,
   "metadata": {},
   "outputs": [],
   "source": [
    "class CarArrivals(Component):\n",
    "    \"\"\"This component emits an event for each new car that arrives.\"\"\"\n",
    "\n",
    "    io = IOController(outputs=[\"time_stamp\"], output_events=[CarArrived])\n",
    "\n",
    "    def __init__(self, path: str, **kwargs: _t.Unpack[ComponentArgsDict]):\n",
    "        super().__init__(**kwargs)\n",
    "        self._path = path\n",
    "        self._car_id = 0\n",
    "\n",
    "    async def init(self) -> None:\n",
    "        df = pd.read_csv(self._path, parse_dates=[\"time_stamp\"])\n",
    "        self._iterator = df.iterrows()\n",
    "\n",
    "    async def step(self) -> None:\n",
    "        try:\n",
    "            _, row = next(self._iterator)\n",
    "        except StopIteration:\n",
    "            self.io.queue_event(StopEvent(source=self.name, data={}))\n",
    "            return\n",
    "        self.time_stamp = row[\"time_stamp\"]\n",
    "        # Emit an event for each car that arrives at this time\n",
    "        for _ in range(row[\"cars\"]):\n",
    "            self._car_id += 1\n",
    "            car = CarData(car_id=self._car_id, arrival_time=self.time_stamp)\n",
    "            self.io.queue_event(CarArrived(source=self.name, data=car))\n",
    "            self._logger.info(\"Car arrived\", car=car)"
   ]
  },
  {
   "cell_type": "markdown",
   "metadata": {},
   "source": [
    "This next component implements a queue. It monitors the status of each washing machine, and publishes events when cars move from the queue to a machine."
   ]
  },
  {
   "cell_type": "code",
   "execution_count": null,
   "metadata": {},
   "outputs": [],
   "source": [
    "class CarWashQueue(Component):\n",
    "    \"\"\"This component manages the queue of cars waiting for the wash.\"\"\"\n",
    "\n",
    "    io = IOController(\n",
    "        outputs=[\"queue_length\"],\n",
    "        input_events=[CarArrived, CarLeavesWash],\n",
    "        output_events=[CarEntersWash],\n",
    "    )\n",
    "\n",
    "    def __init__(self, n_machines: int = 3, **kwargs: _t.Unpack[ComponentArgsDict]):\n",
    "        super().__init__(**kwargs)\n",
    "        self._queue = []\n",
    "        # Use this dictionary to keep track of which machines are available\n",
    "        self._machine_status = {idx: False for idx in range(1, n_machines + 1)}\n",
    "\n",
    "    async def step(self) -> None:\n",
    "        # Check if there are any cars waiting for the wash\n",
    "        while self._queue:\n",
    "            # Check if any of the machines are available\n",
    "            for idx, machine in self._machine_status.items():\n",
    "                if not machine:\n",
    "                    # Machine is not busy - send car to wash\n",
    "                    car = self._queue.pop(0)\n",
    "                    car.machine_id = idx\n",
    "                    self.io.queue_event(CarEntersWash(source=self.name, data=car))\n",
    "                    self._logger.info(\"Car enters wash\", car=car)\n",
    "                    # Mark machine as busy\n",
    "                    self._machine_status[idx] = True\n",
    "                    break\n",
    "            else:\n",
    "                # No machines available\n",
    "                break\n",
    "        self.queue_length = len(self._queue)\n",
    "\n",
    "    @CarArrived.handler\n",
    "    async def car_arrived(self, event: CarArrived) -> None:\n",
    "        # Add the car to the queue\n",
    "        self._queue.append(event.data)\n",
    "\n",
    "    @CarLeavesWash.handler\n",
    "    async def car_leaves_wash(self, event: CarLeavesWash) -> None:\n",
    "        # Mark the machine as available\n",
    "        self._machine_status[event.data.machine_id] = False"
   ]
  },
  {
   "cell_type": "markdown",
   "metadata": {},
   "source": [
    "Next model the washing machines. Each one will listen for an event telling it to start washing a car."
   ]
  },
  {
   "cell_type": "code",
   "execution_count": null,
   "metadata": {},
   "outputs": [],
   "source": [
    "class CarWashMachine(Component):\n",
    "    \"\"\"This component simulates the car wash machine.\"\"\"\n",
    "\n",
    "    io = IOController(outputs=[\"busy\"], input_events=[CarEntersWash], output_events=[CarLeavesWash])\n",
    "\n",
    "    def __init__(\n",
    "        self,\n",
    "        machine_id: int,\n",
    "        wash_time_range: tuple[int, int] = (4, 6),\n",
    "        **kwargs: _t.Unpack[ComponentArgsDict],\n",
    "    ):\n",
    "        super().__init__(**kwargs)\n",
    "        self._machine_id = machine_id\n",
    "        self._wash_time_range = wash_time_range\n",
    "        self._time_remaining = 0\n",
    "        self._car = None\n",
    "        self.busy = False\n",
    "\n",
    "    @CarEntersWash.handler\n",
    "    async def car_enters_wash(self, event: CarEntersWash) -> None:\n",
    "        # Check if car is going into this machine\n",
    "        if event.data.machine_id != self._machine_id:\n",
    "            return\n",
    "        # Start the wash\n",
    "        self._time_remaining = random.randint(*self._wash_time_range)\n",
    "        self.busy = True\n",
    "        self._car = event.data\n",
    "        self._logger.info(\"Car enters wash\", car=self._car)\n",
    "\n",
    "    async def step(self) -> None:\n",
    "        # Check if the wash is complete\n",
    "        if self.busy:\n",
    "            self._time_remaining -= 1\n",
    "            if self._time_remaining <= 0:\n",
    "                self.busy = False\n",
    "                self._car.leave_time = self.time_stamp\n",
    "                self.io.queue_event(CarLeavesWash(source=self.name, data=self._car))\n",
    "                self._logger.info(\"Car leaves wash\", car=self._car)"
   ]
  },
  {
   "cell_type": "markdown",
   "metadata": {},
   "source": [
    "Use this component to capture data as each car leaves the washing machines, so that we can record how long the process took for each vehicle."
   ]
  },
  {
   "cell_type": "code",
   "execution_count": null,
   "metadata": {},
   "outputs": [],
   "source": [
    "class CaptureData(Component):\n",
    "    \"\"\"This component captures the data for each car that leaves the wash and saves to CSV.\"\"\"\n",
    "\n",
    "    io = IOController(inputs=[\"time_stamp\"], input_events=[CarLeavesWash])\n",
    "\n",
    "    def __init__(self, path: str, **kwargs: _t.Unpack[ComponentArgsDict]):\n",
    "        super().__init__(**kwargs)\n",
    "        self._path = path\n",
    "        self._data = []\n",
    "\n",
    "    async def step(self) -> None:\n",
    "        pass\n",
    "\n",
    "    @CarLeavesWash.handler\n",
    "    async def car_leaves_wash(self, event: CarLeavesWash) -> None:\n",
    "        car = event.data\n",
    "        car.leave_time = self.time_stamp\n",
    "        self._data.append(car.model_dump())\n",
    "        self._logger.info(\"Car data captured\", car=car)\n",
    "\n",
    "    async def destroy(self):\n",
    "        pd.DataFrame(self._data).to_csv(self._path, index=False)\n",
    "        return await super().destroy()"
   ]
  },
  {
   "cell_type": "markdown",
   "metadata": {},
   "source": [
    "When building the `Process` to run the model, we need to create connectors both for the normal data inputs/outputs, and also for the events as shown below."
   ]
  },
  {
   "cell_type": "code",
   "execution_count": null,
   "metadata": {},
   "outputs": [],
   "source": [
    "components = [\n",
    "    CarArrivals(name=\"car-arrivals\", path=\"car-arrivals.csv\"),\n",
    "    CarWashQueue(name=\"car-wash-queue\", n_machines=3),\n",
    "    CarWashMachine(name=\"car-wash-machine-1\", machine_id=1, wash_time_range=(3, 5)),\n",
    "    CarWashMachine(name=\"car-wash-machine-2\", machine_id=2, wash_time_range=(3, 5)),\n",
    "    # The third machine takes longer to wash cars\n",
    "    CarWashMachine(name=\"car-wash-machine-3\", machine_id=3, wash_time_range=(5, 9)),\n",
    "    CaptureData(name=\"capture-data\", path=\"car-wash-data.csv\"),\n",
    "    FileWriter(\n",
    "        name=\"write-data\",\n",
    "        path=\"queue-length.csv\",\n",
    "        field_names=[\n",
    "            \"time_stamp\",\n",
    "            \"queue_length\",\n",
    "            \"machine_1_busy\",\n",
    "            \"machine_2_busy\",\n",
    "            \"machine_3_busy\",\n",
    "        ],\n",
    "    ),\n",
    "]\n",
    "connect = lambda in_, out_: AsyncioConnector(spec=ConnectorSpec(source=in_, target=out_))\n",
    "connectors = [\n",
    "    connect(\"car-arrivals.time_stamp\", \"write-data.time_stamp\"),\n",
    "    connect(\"car-arrivals.time_stamp\", \"capture-data.time_stamp\"),\n",
    "    connect(\"car-wash-queue.queue_length\", \"write-data.queue_length\"),\n",
    "    connect(\"car-wash-machine-1.busy\", \"write-data.machine_1_busy\"),\n",
    "    connect(\"car-wash-machine-2.busy\", \"write-data.machine_2_busy\"),\n",
    "    connect(\"car-wash-machine-3.busy\", \"write-data.machine_3_busy\"),\n",
    "]\n",
    "connector_builder = ConnectorBuilder(connector_cls=AsyncioConnector)\n",
    "event_connector_builder = EventConnectorBuilder(connector_builder=connector_builder)\n",
    "event_connectors = list(event_connector_builder.build(components).values())"
   ]
  },
  {
   "cell_type": "code",
   "execution_count": null,
   "metadata": {},
   "outputs": [],
   "source": [
    "process = LocalProcess(\n",
    "    components=components,\n",
    "    connectors=connectors + event_connectors,\n",
    ")\n",
    "async with process:\n",
    "    await process.run()"
   ]
  },
  {
   "cell_type": "markdown",
   "metadata": {},
   "source": [
    "## Results analysis\n",
    "\n",
    "Now load the output CSV files and analyse the data. Try going back and adjusting parameters to see their effect."
   ]
  },
  {
   "cell_type": "code",
   "execution_count": null,
   "metadata": {},
   "outputs": [],
   "source": [
    "df_queue = pd.read_csv(\"queue-length.csv\")\n",
    "df_data = pd.read_csv(\"car-wash-data.csv\", parse_dates=[\"arrival_time\", \"leave_time\"])"
   ]
  },
  {
   "cell_type": "code",
   "execution_count": null,
   "metadata": {},
   "outputs": [],
   "source": [
    "# Print the average utilisation of each machine\n",
    "df_queue[[\"machine_1_busy\", \"machine_2_busy\", \"machine_3_busy\"]].mean().to_frame(\n",
    "    \"utilisation_percent\"\n",
    ") * 100"
   ]
  },
  {
   "cell_type": "code",
   "execution_count": null,
   "metadata": {},
   "outputs": [],
   "source": [
    "# Plot the queue length over time\n",
    "try:\n",
    "    fig = df_queue.plot(\n",
    "        backend=\"plotly\",\n",
    "        x=\"time_stamp\",\n",
    "        y=[\"queue_length\"],\n",
    "        title=\"Queue length at car wash\",\n",
    "        labels={\"index\": \"Time\", \"value\": \"Number of cars\"},\n",
    "    )\n",
    "except (ImportError, ValueError):\n",
    "    print(\"Please install plotly to run this cell.\")\n",
    "    fig = None\n",
    "fig"
   ]
  },
  {
   "cell_type": "code",
   "execution_count": null,
   "metadata": {},
   "outputs": [],
   "source": [
    "# Plot a histogram of the time spent at the car wash for each vehicle\n",
    "df_data = df_data.assign(\n",
    "    total_time=(df_data[\"leave_time\"] - df_data[\"arrival_time\"]).dt.total_seconds() / 60\n",
    ")\n",
    "try:\n",
    "    fig = df_data.plot(\n",
    "        backend=\"plotly\",\n",
    "        kind=\"hist\",\n",
    "        x=\"total_time\",\n",
    "        title=\"Time spent at car wash\",\n",
    "        labels={\"index\": \"Time\", \"value\": \"Number of cars\"},\n",
    "    )\n",
    "except (ImportError, ValueError):\n",
    "    print(\"Please install plotly to run this cell.\")\n",
    "    fig = None\n",
    "fig"
   ]
  }
 ],
 "metadata": {
  "kernelspec": {
   "display_name": ".venv",
   "language": "python",
   "name": "python3"
  },
  "language_info": {
   "codemirror_mode": {
    "name": "ipython",
    "version": 3
   },
   "file_extension": ".py",
   "mimetype": "text/x-python",
   "name": "python",
   "nbconvert_exporter": "python",
   "pygments_lexer": "ipython3",
   "version": "3.12.8"
  }
 },
 "nbformat": 4,
 "nbformat_minor": 2
}
