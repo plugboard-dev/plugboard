{
 "cells": [
  {
   "cell_type": "code",
   "execution_count": null,
   "metadata": {},
   "outputs": [],
   "source": [
    "from multiprocessing import Queue, Manager\n",
    "import asyncio\n",
    "import weakref\n",
    "import threading"
   ]
  },
  {
   "cell_type": "code",
   "execution_count": null,
   "metadata": {},
   "outputs": [],
   "source": [
    "class AsyncMultiProcessingQueue:\n",
    "    def __init__(self):\n",
    "        self._mp_queue = Queue()\n",
    "        # Don't create receiver queue here because we can't send it to the consumer process\n",
    "        self._receiver_queue = None\n",
    "        self._sender_queue = None\n",
    "\n",
    "    def _receiver(self):\n",
    "        while True:\n",
    "            item = self._mp_queue.get()\n",
    "            if item is None:\n",
    "                break\n",
    "            self._receiver_queue.put_nowait(item)\n",
    "\n",
    "    def _sender(self):\n",
    "        while True:\n",
    "            item = self._sender_queue.get()\n",
    "            if item is None:\n",
    "                break\n",
    "            self._mp_queue.put(item)\n",
    "\n",
    "    async def put(self, item):\n",
    "        if self._sender_queue is None:\n",
    "            self._sender_queue = asyncio.Queue()\n",
    "            self._sender_thread = threading.Thread(target=self._sender, daemon=True)\n",
    "            self._sender_thread.start()\n",
    "        await self._sender_queue.put(item)\n",
    "\n",
    "    async def get(self):\n",
    "        if self._receiver_queue is None:\n",
    "            self._receiver_queue = asyncio.Queue()\n",
    "            self._receive_thread = threading.Thread(target=self._receiver, daemon=True)\n",
    "            self._receive_thread.start()\n",
    "        return await self._receiver_queue.get()"
   ]
  },
  {
   "cell_type": "code",
   "execution_count": null,
   "metadata": {},
   "outputs": [],
   "source": [
    "mpq = AsyncMultiProcessingQueue()"
   ]
  },
  {
   "cell_type": "code",
   "execution_count": null,
   "metadata": {},
   "outputs": [],
   "source": [
    "mpq._task.get_coro()."
   ]
  },
  {
   "cell_type": "code",
   "execution_count": null,
   "metadata": {},
   "outputs": [],
   "source": [
    "await mpq.put(\"test5\")\n",
    "await mpq.put(\"test6\")"
   ]
  },
  {
   "cell_type": "code",
   "execution_count": null,
   "metadata": {},
   "outputs": [],
   "source": [
    "await mpq.get()"
   ]
  },
  {
   "cell_type": "code",
   "execution_count": null,
   "metadata": {},
   "outputs": [],
   "source": [
    "del mpq"
   ]
  },
  {
   "cell_type": "code",
   "execution_count": null,
   "metadata": {},
   "outputs": [],
   "source": [
    "print(\"test\")"
   ]
  }
 ],
 "metadata": {
  "kernelspec": {
   "display_name": "plugboard",
   "language": "python",
   "name": "python3"
  },
  "language_info": {
   "codemirror_mode": {
    "name": "ipython",
    "version": 3
   },
   "file_extension": ".py",
   "mimetype": "text/x-python",
   "name": "python",
   "nbconvert_exporter": "python",
   "pygments_lexer": "ipython3",
   "version": "3.12.5"
  }
 },
 "nbformat": 4,
 "nbformat_minor": 2
}
